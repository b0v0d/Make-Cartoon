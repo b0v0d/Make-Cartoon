{
 "cells": [
  {
   "cell_type": "code",
   "execution_count": 5,
   "id": "b0aa6134-501e-46a7-8e90-d12b6a326871",
   "metadata": {},
   "outputs": [],
   "source": [
    "import cv2\n",
    "import numpy as np\n",
    "\n",
    "def cartoonize(image):\n",
    "    # 이미지를 블러처리하여 경계를 부드럽게 만듭니다.\n",
    "    blurred = cv2.bilateralFilter(image, 9, 75, 75)\n",
    "\n",
    "    # 그레이스케일로 변환합니다.\n",
    "    gray = cv2.cvtColor(blurred, cv2.COLOR_BGR2GRAY)\n",
    "\n",
    "    # 엣지 검출을 수행합니다.\n",
    "    edges = cv2.adaptiveThreshold(gray, 255, cv2.ADAPTIVE_THRESH_MEAN_C, cv2.THRESH_BINARY, 9, 9)\n",
    "\n",
    "    # 엣지 강조를 위해 컬러 이미지로 변환합니다.\n",
    "    color = cv2.edgePreservingFilter(image, flags=2, sigma_s=50, sigma_r=0.4)\n",
    "\n",
    "    # 엣지 영역과 컬러 이미지를 합성하여 만화 스타일을 만듭니다.\n",
    "    cartoon = cv2.bitwise_and(color, color, mask=edges)\n",
    "\n",
    "    return cartoon\n",
    "\n",
    "# 테스트를 위한 이미지 불러오기\n",
    "image_path = 'test2.jpg'\n",
    "image = cv2.imread(image_path)\n",
    "\n",
    "# 만화 스타일로 변환된 이미지 얻기\n",
    "cartoon_image = cartoonize(image)\n",
    "\n",
    "# 결과 이미지 출력\n",
    "cv2.imshow('Cartoon Image', cartoon_image)\n",
    "cv2.waitKey(0)\n",
    "cv2.destroyAllWindows()"
   ]
  },
  {
   "cell_type": "code",
   "execution_count": null,
   "id": "990e860e-fdd3-455e-961a-1810e2445c80",
   "metadata": {},
   "outputs": [],
   "source": []
  }
 ],
 "metadata": {
  "kernelspec": {
   "display_name": "Python 3 (ipykernel)",
   "language": "python",
   "name": "python3"
  },
  "language_info": {
   "codemirror_mode": {
    "name": "ipython",
    "version": 3
   },
   "file_extension": ".py",
   "mimetype": "text/x-python",
   "name": "python",
   "nbconvert_exporter": "python",
   "pygments_lexer": "ipython3",
   "version": "3.11.7"
  }
 },
 "nbformat": 4,
 "nbformat_minor": 5
}
